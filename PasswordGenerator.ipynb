{
  "nbformat": 4,
  "nbformat_minor": 0,
  "metadata": {
    "colab": {
      "provenance": [],
      "authorship_tag": "ABX9TyM58Lf0htTQFGBKoTsWtWSw",
      "include_colab_link": true
    },
    "kernelspec": {
      "name": "python3",
      "display_name": "Python 3"
    },
    "language_info": {
      "name": "python"
    }
  },
  "cells": [
    {
      "cell_type": "markdown",
      "metadata": {
        "id": "view-in-github",
        "colab_type": "text"
      },
      "source": [
        "<a href=\"https://colab.research.google.com/github/ShaikSony18/codSoft_python/blob/main/PasswordGenerator.ipynb\" target=\"_parent\"><img src=\"https://colab.research.google.com/assets/colab-badge.svg\" alt=\"Open In Colab\"/></a>"
      ]
    },
    {
      "cell_type": "code",
      "execution_count": null,
      "metadata": {
        "colab": {
          "base_uri": "https://localhost:8080/"
        },
        "id": "JVvKmxbi3onD",
        "outputId": "e5ed6129-d4ce-4011-f8a0-5b1418caae4a"
      },
      "outputs": [
        {
          "output_type": "stream",
          "name": "stdout",
          "text": [
            "Enter password length: 7\n",
            "Your strong generated password is: 2ZuJIp{\n"
          ]
        }
      ],
      "source": [
        "import string\n",
        "import random\n",
        "\n",
        "def generate_strong_password(length):\n",
        "    if length < 4:\n",
        "        print(\"Password length should be at least 4 to include all character types.\")\n",
        "        return None\n",
        "\n",
        "    # Character sets\n",
        "    uppercase = string.ascii_uppercase\n",
        "    lowercase = string.ascii_lowercase\n",
        "    digits = string.digits\n",
        "    special_chars = string.punctuation\n",
        "\n",
        "    # Ensure at least one character from each set\n",
        "    password = [\n",
        "        random.choice(uppercase),\n",
        "        random.choice(lowercase),\n",
        "        random.choice(digits),\n",
        "        random.choice(special_chars)\n",
        "    ]\n",
        "\n",
        "    # Fill the rest of the password length with a mix of all character types\n",
        "    all_chars = uppercase + lowercase + digits + special_chars\n",
        "    password += random.choices(all_chars, k=length - 4)\n",
        "\n",
        "    # Shuffle to avoid any predictable patterns\n",
        "    random.shuffle(password)\n",
        "\n",
        "    # Convert list to string and return\n",
        "    return ''.join(password)\n",
        "\n",
        "# Get password length from the user\n",
        "length = int(input(\"Enter password length: \"))\n",
        "\n",
        "# Generate and print the password\n",
        "password = generate_strong_password(length)\n",
        "if password:\n",
        "    print(\"Your strong generated password is:\", password)\n"
      ]
    },
    {
      "cell_type": "code",
      "source": [],
      "metadata": {
        "id": "T6gFnHHr3tYw"
      },
      "execution_count": null,
      "outputs": []
    }
  ]
}